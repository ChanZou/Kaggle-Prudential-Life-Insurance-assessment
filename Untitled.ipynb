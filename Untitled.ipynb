{
 "cells": [
  {
   "cell_type": "code",
   "execution_count": null,
   "metadata": {
    "collapsed": true
   },
   "outputs": [],
   "source": [
    "__author__ = 'Chan'"
   ]
  },
  {
   "cell_type": "code",
   "execution_count": 11,
   "metadata": {
    "collapsed": false
   },
   "outputs": [
    {
     "name": "stdout",
     "output_type": "stream",
     "text": [
      "Employment_Info_1\n",
      "Employment_Info_4\n",
      "Employment_Info_6\n",
      "Insurance_History_5\n",
      "Family_Hist_2\n",
      "Family_Hist_3\n",
      "Family_Hist_4\n",
      "Family_Hist_5\n",
      "Medical_History_1\n",
      "Medical_History_10\n",
      "Medical_History_15\n",
      "Medical_History_24\n",
      "Medical_History_32\n"
     ]
    }
   ],
   "source": [
    "import pandas\n",
    "from sklearn.ensemble import RandomForestClassifier\n",
    "\n",
    "insurance = pandas.read_csv(\"train.csv\")\n",
    "not_full = []\n",
    "for name in list(insurance.columns.values):\n",
    "    if insurance[name].count() != insurance[\"Id\"].count():\n",
    "        print name\n",
    "        not_full.append(name)"
   ]
  },
  {
   "cell_type": "code",
   "execution_count": 12,
   "metadata": {
    "collapsed": false
   },
   "outputs": [],
   "source": [
    "for name in not_full:\n",
    "    insurance[name] = insurance[name].fillna(insurance[name].median())\n",
    "insurance = insurance.drop([\"Id\"], axis=1)"
   ]
  },
  {
   "cell_type": "code",
   "execution_count": null,
   "metadata": {
    "collapsed": true
   },
   "outputs": [],
   "source": []
  }
 ],
 "metadata": {
  "kernelspec": {
   "display_name": "Python 2",
   "language": "python",
   "name": "python2"
  },
  "language_info": {
   "codemirror_mode": {
    "name": "ipython",
    "version": 2
   },
   "file_extension": ".py",
   "mimetype": "text/x-python",
   "name": "python",
   "nbconvert_exporter": "python",
   "pygments_lexer": "ipython2",
   "version": "2.7.9"
  }
 },
 "nbformat": 4,
 "nbformat_minor": 0
}
